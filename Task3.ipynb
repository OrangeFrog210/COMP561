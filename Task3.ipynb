{
 "cells": [
  {
   "cell_type": "markdown",
   "metadata": {},
   "source": [
    "# 3. Training a machine learning classifier to distinguish between bound and unbound sites\n",
    "GB Shape: http://rohsdb.cmb.usc.edu/\n",
    "\"Predicted structural properties for every human genome positions are available here\""
   ]
  },
  {
   "cell_type": "markdown",
   "metadata": {},
   "source": [
    "## 3-1. Data-Preprocessing: \n",
    "## Mini-objective: Given an input, predict whether the site is bound or unbound\n",
    "Assumption: All the input sequence is of length 20bp (length of a TBP binding site) and it should be bound"
   ]
  },
  {
   "cell_type": "code",
   "execution_count": 2,
   "metadata": {},
   "outputs": [],
   "source": [
    "from Bio import SeqIO\n",
    "from random import sample\n",
    "import pandas as pd\n",
    "import numpy as np\n",
    "import math\n",
    "import time\n",
    "import matplotlib.pyplot as plt\n",
    "from collections import Counter"
   ]
  },
  {
   "cell_type": "code",
   "execution_count": 2,
   "metadata": {},
   "outputs": [],
   "source": [
    "#### Looking at Position Weight Matrix (PWM) of TBP"
   ]
  },
  {
   "cell_type": "code",
   "execution_count": 3,
   "metadata": {},
   "outputs": [
    {
     "name": "stdout",
     "output_type": "stream",
     "text": [
      "tf_name: TBP\n",
      "tf_len: 20\n",
      "TBP\n",
      "80\n",
      "[[0.088608 0.189873 0.202532 0.139241 0.139241 0.189873 0.196203 0.113924\n",
      "  0.082278 0.14557  0.044304 0.037975 0.126582 0.012658 0.316456 0.031646\n",
      "  0.955696 0.056962 0.898734 0.170886]\n",
      " [0.563291 0.43038  0.316456 0.405063 0.35443  0.512658 0.411392 0.322785\n",
      "  0.5      0.329114 0.417722 0.689873 0.170886 0.088608 0.       0.\n",
      "  0.018987 0.006329 0.031646 0.234177]\n",
      " [0.227848 0.259494 0.360759 0.386076 0.424051 0.21519  0.246835 0.417722\n",
      "  0.278481 0.35443  0.443038 0.050633 0.       0.       0.       0.\n",
      "  0.       0.       0.050633 0.525316]\n",
      " [0.120253 0.120253 0.120253 0.06962  0.082278 0.082278 0.14557  0.14557\n",
      "  0.139241 0.170886 0.094937 0.221519 0.702532 0.898734 0.683544 0.968354\n",
      "  0.025316 0.936709 0.018987 0.06962 ]]\n",
      "[1.       1.       1.       1.       1.       0.999999 1.       1.000001\n",
      " 1.       1.       1.000001 1.       1.       1.       1.       1.\n",
      " 0.999999 1.       1.       0.999999]\n"
     ]
    }
   ],
   "source": [
    "tf = 'TBP'\n",
    "with open('factorbookMotifPwm.txt') as f:\n",
    "    for line in f:\n",
    "        if tf in line:\n",
    "            line = line.split(\",\")\n",
    "            for i in range(len(line)):\n",
    "                if i == 0:\n",
    "                    tf_name = line[i].split(\"\\t\")[0]\n",
    "                    tf_len = line[i].split(\"\\t\")[1]\n",
    "                    tf_len = int(tf_len)\n",
    "                    print(\"tf_name:\", tf_name)\n",
    "                    print(\"tf_len:\", tf_len)\n",
    "                    line[i] = line[i].split(\"\\t\")[-1]\n",
    "                else:\n",
    "                    line[i] = line[i].replace(\"\\t\", \"\")\n",
    "            del line[-1]\n",
    "            #tf_name = line[0]\n",
    "            print(tf_name)\n",
    "            #print(line)\n",
    "            print(len(line))\n",
    "            line_int = [float(i) for i in line]\n",
    "            # Convert to a numpy array\n",
    "            pwm_arr = np.array(line_int)\n",
    "            pwm_arr.astype(int)\n",
    "            #print(pwm_arr)\n",
    "            pwm_arr2 = np.reshape(pwm_arr, (4, tf_len))\n",
    "            print(pwm_arr2)\n",
    "            print(np.sum(pwm_arr2, axis=0))"
   ]
  },
  {
   "cell_type": "code",
   "execution_count": 4,
   "metadata": {},
   "outputs": [
    {
     "name": "stdout",
     "output_type": "stream",
     "text": [
      "0.189873\n",
      "[[0.088608 0.189873 0.202532 0.139241 0.139241 0.189873 0.196203 0.113924\n",
      "  0.082278 0.14557  0.044304 0.037975 0.126582 0.012658 0.316456 0.031646\n",
      "  0.955696 0.056962 0.898734 0.170886]\n",
      " [0.563291 0.43038  0.316456 0.405063 0.35443  0.512658 0.411392 0.322785\n",
      "  0.5      0.329114 0.417722 0.689873 0.170886 0.088608 0.       0.\n",
      "  0.018987 0.006329 0.031646 0.234177]\n",
      " [0.227848 0.259494 0.360759 0.386076 0.424051 0.21519  0.246835 0.417722\n",
      "  0.278481 0.35443  0.443038 0.050633 0.       0.       0.       0.\n",
      "  0.       0.       0.050633 0.525316]\n",
      " [0.120253 0.120253 0.120253 0.06962  0.082278 0.082278 0.14557  0.14557\n",
      "  0.139241 0.170886 0.094937 0.221519 0.702532 0.898734 0.683544 0.968354\n",
      "  0.025316 0.936709 0.018987 0.06962 ]]\n"
     ]
    }
   ],
   "source": [
    "print(pwm_arr2[0,1])\n",
    "print(pwm_arr2)"
   ]
  },
  {
   "cell_type": "markdown",
   "metadata": {},
   "source": [
    "#### Determination of threshold\n",
    "* Already have: the actual sequences of positive examples\n",
    "* From: these sequences (fasta file containing them)\n",
    "* Calculate the average log probability of all the positive examples\n",
    "* Use this average log probability as the threshold when identifying the unbound sites"
   ]
  },
  {
   "cell_type": "code",
   "execution_count": 5,
   "metadata": {},
   "outputs": [
    {
     "name": "stdout",
     "output_type": "stream",
     "text": [
      "['chr1', 'chr2', 'chr3', 'chr4', 'chr5', 'chr6', 'chr7', 'chr8', 'chr9', 'chr10', 'chr11', 'chr12', 'chr13', 'chr14', 'chr15', 'chr16', 'chr17', 'chr18', 'chr19', 'chr20', 'chr21', 'chr22', 'chrX']\n",
      "23\n"
     ]
    }
   ],
   "source": [
    "list_chrs = ['chr%s' % s for s in range(1,23)]\n",
    "list_chrs.append(\"chrX\")\n",
    "print(list_chrs)\n",
    "print(len(list_chrs))"
   ]
  },
  {
   "cell_type": "code",
   "execution_count": 7,
   "metadata": {},
   "outputs": [
    {
     "name": "stdout",
     "output_type": "stream",
     "text": [
      "chom:  chr1\n",
      "# of seqs:  29\n",
      "count:  29\n",
      "avg_logprob:  -18.860297409367234\n",
      "max_logprob:  -21.0973227165288\n",
      "=============\n",
      "chom:  chr2\n",
      "# of seqs:  26\n",
      "count:  26\n",
      "avg_logprob:  -19.345488155677227\n",
      "max_logprob:  -21.397387053610977\n",
      "=============\n",
      "chom:  chr3\n",
      "# of seqs:  20\n",
      "count:  20\n",
      "avg_logprob:  -19.40050314208107\n",
      "max_logprob:  -21.165886642931063\n",
      "=============\n",
      "chom:  chr4\n",
      "# of seqs:  14\n",
      "count:  14\n",
      "avg_logprob:  -19.403915050405836\n",
      "max_logprob:  -21.14473226712874\n",
      "=============\n",
      "chom:  chr5\n",
      "# of seqs:  15\n",
      "count:  15\n",
      "avg_logprob:  -19.775589817586106\n",
      "max_logprob:  -21.195684381362636\n",
      "=============\n",
      "chom:  chr6\n",
      "# of seqs:  50\n",
      "count:  50\n",
      "avg_logprob:  -18.82942004757112\n",
      "max_logprob:  -21.299439012992305\n",
      "=============\n",
      "chom:  chr7\n",
      "# of seqs:  15\n",
      "count:  15\n",
      "avg_logprob:  -18.85284669388053\n",
      "max_logprob:  -21.708643588226888\n",
      "=============\n",
      "chom:  chr8\n",
      "# of seqs:  21\n",
      "count:  21\n",
      "avg_logprob:  -19.345781317015977\n",
      "max_logprob:  -21.510405118121515\n",
      "=============\n",
      "chom:  chr9\n",
      "# of seqs:  9\n",
      "count:  9\n",
      "avg_logprob:  -18.530627366103133\n",
      "max_logprob:  -20.905995310208187\n",
      "=============\n",
      "chom:  chr10\n",
      "# of seqs:  16\n",
      "count:  16\n",
      "avg_logprob:  -19.557547522491863\n",
      "max_logprob:  -21.05642775128357\n",
      "=============\n",
      "chom:  chr11\n",
      "# of seqs:  23\n",
      "count:  23\n",
      "avg_logprob:  -18.46908879791406\n",
      "max_logprob:  -20.971388804364977\n",
      "=============\n",
      "chom:  chr12\n",
      "# of seqs:  26\n",
      "count:  26\n",
      "avg_logprob:  -18.53012153936843\n",
      "max_logprob:  -21.137726322591636\n",
      "=============\n",
      "chom:  chr13\n",
      "# of seqs:  10\n",
      "count:  10\n",
      "avg_logprob:  -19.265200086435183\n",
      "max_logprob:  -20.306768118735846\n",
      "=============\n",
      "chom:  chr14\n",
      "# of seqs:  11\n",
      "count:  11\n",
      "avg_logprob:  -19.168870079485256\n",
      "max_logprob:  -20.642956849488332\n",
      "=============\n",
      "chom:  chr15\n",
      "# of seqs:  6\n",
      "count:  6\n",
      "avg_logprob:  -18.54342774087847\n",
      "max_logprob:  -19.938672491245192\n",
      "=============\n",
      "chom:  chr16\n",
      "# of seqs:  16\n",
      "count:  16\n",
      "avg_logprob:  -18.45776118480299\n",
      "max_logprob:  -20.960283707588676\n",
      "=============\n",
      "chom:  chr17\n",
      "# of seqs:  23\n",
      "count:  23\n",
      "avg_logprob:  -18.545246275323404\n",
      "max_logprob:  -20.8478738070592\n",
      "=============\n",
      "chom:  chr18\n",
      "# of seqs:  3\n",
      "count:  3\n",
      "avg_logprob:  -18.81276827105963\n",
      "max_logprob:  -19.90501182347343\n",
      "=============\n",
      "chom:  chr19\n",
      "# of seqs:  22\n",
      "count:  22\n",
      "avg_logprob:  -18.768938902564194\n",
      "max_logprob:  -21.93165724356805\n",
      "=============\n",
      "chom:  chr20\n",
      "# of seqs:  13\n",
      "count:  13\n",
      "avg_logprob:  -19.071693229948742\n",
      "max_logprob:  -20.83430649737105\n",
      "=============\n",
      "chom:  chr21\n",
      "# of seqs:  3\n",
      "count:  3\n",
      "avg_logprob:  -20.371959543836358\n",
      "max_logprob:  -21.83736282015295\n",
      "=============\n",
      "chom:  chr22\n",
      "# of seqs:  11\n",
      "count:  11\n",
      "avg_logprob:  -19.916906878436016\n",
      "max_logprob:  -20.95686131291138\n",
      "=============\n",
      "chom:  chrX\n",
      "# of seqs:  10\n",
      "count:  10\n",
      "avg_logprob:  -19.169153214156562\n",
      "max_logprob:  -21.099290490833813\n",
      "=============\n"
     ]
    }
   ],
   "source": [
    "# Find the log probability threshold\n",
    "\n",
    "for chom in list_chrs:\n",
    "    print(\"chom: \", chom)\n",
    "    filename = \"./ExtractedSeqs_TBP/seqs_TBP_fwd_pos/seqs_\" + chom + \"_TBP_fwd_pos.fasta\"\n",
    "    sum_logprob = 0\n",
    "    avg_logprob = 0\n",
    "    max_logprob = 0\n",
    "\n",
    "    n_seqs = len([len(rec) for rec in SeqIO.parse(filename, \"fasta\")])\n",
    "    print(\"# of seqs: \", n_seqs)\n",
    "\n",
    "    with open(filename, \"r\") as fh: #rU\n",
    "        count = 0\n",
    "        for seq_record in SeqIO.parse(fh, \"fasta\"):\n",
    "            #print(seq_record.id)\n",
    "            sequence = seq_record.seq\n",
    "            #print(sequence)\n",
    "            #print(sequence[12])\n",
    "            target_seq = sequence\n",
    "\n",
    "            k = 0\n",
    "            log_prob = 0\n",
    "            if target_seq[k+12] != \"G\" and target_seq[k+12] != \"g\" and target_seq[k+13] != \"G\" and target_seq[k+13] != \"g\" and target_seq[k+14] != \"G\" and target_seq[k+14] != \"g\" and target_seq[k+14] != \"C\" and target_seq[k+14] != \"c\" and target_seq[k+15] != \"G\" and target_seq[k+15] != \"g\" and target_seq[k+15] != \"C\" and target_seq[k+15] != \"c\" and target_seq[k+16] != \"G\" and target_seq[k+16] != \"g\" and target_seq[k+17] != \"G\" and target_seq[k+17] != \"g\":\n",
    "                #print(\"Success\")\n",
    "                count += 1\n",
    "                for i in range(20):\n",
    "                    if target_seq[i] == 'A' or target_seq[i] == 'a':\n",
    "                        arr_idx = 0\n",
    "                    elif target_seq[i] == 'C' or target_seq[i] == 'c':\n",
    "                        arr_idx = 1\n",
    "                    elif target_seq[i] == 'G' or target_seq[i] == 'g':\n",
    "                        arr_idx = 2\n",
    "                    elif target_seq[i] == 'T' or target_seq[i] == 't':\n",
    "                        arr_idx = 3\n",
    "                    else: # if \"N\"\n",
    "                        break\n",
    "                    #print(i)\n",
    "                    #print(arr_idx)\n",
    "                    #print(pwm_arr2[arr_idx, i])\n",
    "                    log_prob += math.log(pwm_arr2[arr_idx, i])\n",
    "                    #prob = prob * (pwm_arr2[arr_idx, j])\n",
    "                    #print(\"===========\")\n",
    "                    #print(\"log_prob: \", log_prob)\n",
    "                #print(\"log_prob2: \", log_prob)\n",
    "                sum_logprob += log_prob\n",
    "                if max_logprob > log_prob:\n",
    "                    max_logprob = log_prob\n",
    "            #print(\"count: \", count)\n",
    "        #print(\"sum_logprob: \", sum_logprob)\n",
    "        avg_logprob = sum_logprob / n_seqs\n",
    "        print(\"count: \", count)\n",
    "        print(\"avg_logprob: \", avg_logprob)\n",
    "        print(\"max_logprob: \", max_logprob)\n",
    "        print(\"=============\")\n"
   ]
  },
  {
   "cell_type": "markdown",
   "metadata": {},
   "source": [
    "##### Determination of threshold: Result\n",
    "* Based on the above code, it was observed that the maximum log probability was almost for all in the -21s (some in the -20s). Therefore, the student decided to set the threshold as -22."
   ]
  },
  {
   "cell_type": "markdown",
   "metadata": {},
   "source": [
    "#### Identification of unbound sequences"
   ]
  },
  {
   "cell_type": "code",
   "execution_count": 14,
   "metadata": {},
   "outputs": [
    {
     "name": "stdout",
     "output_type": "stream",
     "text": [
      "# of sequences contained in the fasta: 324\n"
     ]
    }
   ],
   "source": [
    "filename = \"./ExtractedSeqs/seqs_TBP_fwd_neg/seqs_chr1_TBP_fwd_neg.fasta\"\n",
    "n_seqs = len([len(rec) for rec in SeqIO.parse(filename, \"fasta\")])\n",
    "print(\"# of sequences contained in the fasta:\", n_seqs)"
   ]
  },
  {
   "cell_type": "markdown",
   "metadata": {},
   "source": [
    "To save computational time, I will make the unbound sequence under the assumption that each region in the bedfile contains one binding site for TBP"
   ]
  },
  {
   "cell_type": "code",
   "execution_count": 33,
   "metadata": {},
   "outputs": [
    {
     "name": "stdout",
     "output_type": "stream",
     "text": [
      "chom:  chr1\n",
      "chom:  chr2\n",
      "chom:  chr3\n",
      "chom:  chr4\n",
      "chom:  chr5\n",
      "chom:  chr6\n",
      "chom:  chr7\n",
      "chom:  chr8\n",
      "chom:  chr9\n",
      "chom:  chr10\n",
      "chom:  chr11\n",
      "chom:  chr12\n",
      "chom:  chr13\n",
      "chom:  chr14\n",
      "chom:  chr15\n",
      "chom:  chr16\n",
      "chom:  chr17\n",
      "chom:  chr18\n",
      "chom:  chr19\n",
      "chom:  chr20\n",
      "chom:  chr21\n",
      "chom:  chr22\n",
      "chom:  chrX\n",
      "Running time of grid search: 57.46489882469177\n"
     ]
    }
   ],
   "source": [
    "s_time = time.time()\n",
    "fileout = \"./ExtractedSeqs_TBP/seqs_TBP_fwd_neg/unbound/seqs_TBP_fwd_neg_unbound.fasta\"\n",
    "for chom in list_chrs:\n",
    "    print(\"chom: \", chom)\n",
    "    filename = \"./ExtractedSeqs_TBP/seqs_TBP_fwd_neg/seqs_\" + chom + \"_TBP_fwd_neg.fasta\"\n",
    "    logp_thresh = -22\n",
    "    \n",
    "    with open(filename, \"r\") as fh:\n",
    "        with open(fileout, \"a\") as fout:\n",
    "            for seq_record in SeqIO.parse(fh, \"fasta\"):\n",
    "                sequence = seq_record.seq\n",
    "                #print(sequence)\n",
    "                start_time = time.time()\n",
    "                #print(\"length of the seq:\", len(sequence))\n",
    "                count2 = 0\n",
    "                for j in range(len(sequence)-20):\n",
    "                    #print(\"j:\", j)\n",
    "                    count += 1\n",
    "                    target_seq = sequence[j:j+20]\n",
    "                    if \"N\" in target_seq:\n",
    "                        N_in = \"YesN\"\n",
    "                    else:\n",
    "                        N_in = \"NoN\"\n",
    "                    if N_in == \"NoN\":\n",
    "                        if target_seq[12] != \"G\" and target_seq[12] != \"g\" and target_seq[13] != \"G\" and target_seq[13] != \"g\" and target_seq[14] != \"G\" and target_seq[14] != \"g\" and target_seq[14] != \"C\" and target_seq[14] != \"c\" and target_seq[15] != \"G\" and target_seq[15] != \"g\" and target_seq[15] != \"C\" and target_seq[15] != \"c\" and target_seq[16] != \"G\" and target_seq[16] != \"g\" and target_seq[17] != \"G\" and target_seq[17] != \"g\":\n",
    "                            log_prob = 0\n",
    "                            for i in range(20):\n",
    "                                if target_seq[i] == 'A' or target_seq[i] == 'a':\n",
    "                                    arr_idx = 0\n",
    "                                elif target_seq[i] == 'C' or target_seq[i] == 'c':\n",
    "                                    arr_idx = 1\n",
    "                                elif target_seq[i] == 'G' or target_seq[i] == 'g':\n",
    "                                    arr_idx = 2\n",
    "                                elif target_seq[i] == 'T' or target_seq[i] == 't':\n",
    "                                    arr_idx = 3\n",
    "                                else: # if \"N\"\n",
    "                                    break\n",
    "\n",
    "                                log_prob += math.log(pwm_arr2[arr_idx, i])\n",
    "                            #print(\"log_prob:\", log_prob)\n",
    "                            if log_prob > logp_thresh: # if sum_logprob > -22\n",
    "                                #print(\"Written\")\n",
    "                                #print(target_seq)\n",
    "                                #print(type(str(target_seq)))\n",
    "                                fout.write(str(target_seq)+\"\\n\")\n",
    "                                #SeqIO.write(target_seq, fout, \"fasta\") \n",
    "                                #count2 += 1\n",
    "                                #print(count2)\n",
    "\n",
    "                #print(\"count:\", count)\n",
    "                end_time = time.time()\n",
    "                time_taken = end_time - start_time\n",
    "                #print(\"run time:\", time_taken)\n",
    "e_time = time.time()\n",
    "total_time = e_time - s_time\n",
    "print(\"Running time of grid search:\", total_time)"
   ]
  },
  {
   "cell_type": "code",
   "execution_count": null,
   "metadata": {},
   "outputs": [],
   "source": []
  },
  {
   "cell_type": "code",
   "execution_count": 15,
   "metadata": {},
   "outputs": [
    {
     "name": "stdout",
     "output_type": "stream",
     "text": [
      "# of sequences contained in the fasta: 324\n",
      "TTCTTGGATGTTCGGGAAAGGGGGTTATTATCTAGGATCCTTGAAGCACCCCCAAGGGCATCTTCTCAAAGTTGGATGTGTGCATTTTCCTGAGAGGAAAGCTTTCCCACATTATACAGCTTCTGAAAGGGTTGCTTGACCCACAGATGTGAAGCTGAGGCTGAAGGAGACTGATGTGGTTTCTCCTCAGTTTCTCTGTGCAGCACCAGGTGGCAGCAGAGGTCAGCAAGGCAAACCCGAGCCCGGGGATGCGGAGTGGGGGCAGCTACGTCCTCTCTTGAGCTACAGCAGATTCACTCTGTTCTGTTTCATTGTTGTTTAGTTTGCGTTGTGTTTCTCCAACTTTGTGCCTCATCAGGAAAAGCTTTGGATCACAATTCCCAGtgctgaagaaaaggccaaactctggaaaaaattttgaatattttgagccaaatgt\n"
     ]
    }
   ],
   "source": [
    "filename = \"./ExtractedSeqs/seqs_TBP_fwd_neg/seqs_chr1_TBP_fwd_neg.fasta\"\n",
    "n_seqs = len([len(rec) for rec in SeqIO.parse(filename, \"fasta\")])\n",
    "print(\"# of sequences contained in the fasta:\", n_seqs)\n",
    "fileout = \"seqs_chr1_TBP_fwd_neg_unbound.fasta\"\n",
    "logp_thresh = -22  # threshold of the log probability\n",
    "\n",
    "with open(filename, \"r\") as fh:\n",
    "    with open(fileout, \"w\") as fout:\n",
    "        records = list(SeqIO.parse(fh, \"fasta\"))\n",
    "        sample_seq = records[0].seq  # first record\n",
    "        print(sample_seq)"
   ]
  },
  {
   "cell_type": "markdown",
   "metadata": {},
   "source": [
    "## 3-1. Data-Preprocessing: \n",
    "## Mini-objective: Given an input, predict whether the site is bound or unbound\n",
    "Assumption: All the input sequence is of length 20bp (length of a TBP binding site) and it should be bound"
   ]
  },
  {
   "cell_type": "code",
   "execution_count": 12,
   "metadata": {},
   "outputs": [
    {
     "name": "stdout",
     "output_type": "stream",
     "text": [
      "['MGW', 'HelT', 'Roll', 'ProT']\n"
     ]
    }
   ],
   "source": [
    "bad_words = ['>']\n",
    "list_DNAprops = [\"MGW\", \"HelT\", \"Roll\", \"ProT\"]\n",
    "print(list_DNAprops)"
   ]
  },
  {
   "cell_type": "code",
   "execution_count": 13,
   "metadata": {},
   "outputs": [
    {
     "name": "stdout",
     "output_type": "stream",
     "text": [
      "MGW1,MGW2,MGW3,MGW4,MGW5,MGW6,MGW7,MGW8,MGW9,MGW10,MGW11,MGW12,MGW13,MGW14,MGW15,MGW16,MGW17,MGW18,MGW19,MGW20\n",
      "HelT1,HelT2,HelT3,HelT4,HelT5,HelT6,HelT7,HelT8,HelT9,HelT10,HelT11,HelT12,HelT13,HelT14,HelT15,HelT16,HelT17,HelT18,HelT19,HelT20\n",
      "Roll1,Roll2,Roll3,Roll4,Roll5,Roll6,Roll7,Roll8,Roll9,Roll10,Roll11,Roll12,Roll13,Roll14,Roll15,Roll16,Roll17,Roll18,Roll19,Roll20\n",
      "ProT1,ProT2,ProT3,ProT4,ProT5,ProT6,ProT7,ProT8,ProT9,ProT10,ProT11,ProT12,ProT13,ProT14,ProT15,ProT16,ProT17,ProT18,ProT19,ProT20\n"
     ]
    }
   ],
   "source": [
    "# Create textfiles that will later be converted to pandas dataframe\n",
    "for prop in list_DNAprops:\n",
    "    filein = \"./ExtractedSeqs_TBP/phpnRRPIR/phpnRRPIR.\" + prop + \".txt\"\n",
    "    fileout = \"./ExtractedSeqs_TBP/phpnRRPIR/phpnRRPIR_processed.\" + prop + \".txt\"\n",
    "\n",
    "    with open(filein) as oldfile, open(fileout, 'w') as newfile:\n",
    "        n = 20\n",
    "        list_header = [prop] * n\n",
    "        #print(list_header)\n",
    "        for j in range(n):\n",
    "            list_header[j] = list_header[j] + str(j+1)\n",
    "        header = ','.join(list_header)\n",
    "        print(header)\n",
    "        newfile.write(header)\n",
    "        newfile.write(\"\\n\")\n",
    "        for line in oldfile:\n",
    "            if not any(bad_word in line for bad_word in bad_words):\n",
    "                newfile.write(line)"
   ]
  },
  {
   "cell_type": "code",
   "execution_count": 14,
   "metadata": {},
   "outputs": [
    {
     "name": "stdout",
     "output_type": "stream",
     "text": [
      "['./ExtractedSeqs_TBP/phpnRRPIR/phpnRRPIR_processed.MGW.txt', './ExtractedSeqs_TBP/phpnRRPIR/phpnRRPIR_processed.HelT.txt', './ExtractedSeqs_TBP/phpnRRPIR/phpnRRPIR_processed.Roll.txt', './ExtractedSeqs_TBP/phpnRRPIR/phpnRRPIR_processed.ProT.txt']\n"
     ]
    }
   ],
   "source": [
    "files_unbound = [\"./ExtractedSeqs_TBP/phpnRRPIR/phpnRRPIR_processed.\" + prop + \".txt\" for prop in list_DNAprops]\n",
    "print(files_unbound)"
   ]
  },
  {
   "cell_type": "code",
   "execution_count": 15,
   "metadata": {},
   "outputs": [
    {
     "name": "stdout",
     "output_type": "stream",
     "text": [
      "./ExtractedSeqs_TBP/phpnRRPIR/phpnRRPIR_processed.MGW.txt\n",
      "./ExtractedSeqs_TBP/phpnRRPIR/phpnRRPIR_processed.HelT.txt\n",
      "./ExtractedSeqs_TBP/phpnRRPIR/phpnRRPIR_processed.Roll.txt\n",
      "./ExtractedSeqs_TBP/phpnRRPIR/phpnRRPIR_processed.ProT.txt\n",
      "(1204, 80)\n",
      "(1204, 81)\n"
     ]
    }
   ],
   "source": [
    "for i in range(len(files_unbound)):\n",
    "    if i == 0:\n",
    "        print(files_unbound[i])\n",
    "        df_properties_ub = pd.read_csv(files_unbound[i])\n",
    "    \n",
    "    else:\n",
    "        print(files_unbound[i])\n",
    "        df_property_ub = pd.read_csv(files_unbound[i])\n",
    "        df_properties_ub = pd.concat([df_properties_ub, df_property_ub.reindex(df_properties_ub.index)], axis=1)\n",
    "\n",
    "print(df_properties_ub.shape)\n",
    "df_properties_ub[\"label\"] = \"unbound\"\n",
    "print(df_properties_ub.shape)"
   ]
  },
  {
   "cell_type": "markdown",
   "metadata": {},
   "source": [
    "##### Repeat the procedure for bound sequences"
   ]
  },
  {
   "cell_type": "code",
   "execution_count": 16,
   "metadata": {},
   "outputs": [
    {
     "name": "stdout",
     "output_type": "stream",
     "text": [
      "MGW1,MGW2,MGW3,MGW4,MGW5,MGW6,MGW7,MGW8,MGW9,MGW10,MGW11,MGW12,MGW13,MGW14,MGW15,MGW16,MGW17,MGW18,MGW19,MGW20\n",
      "HelT1,HelT2,HelT3,HelT4,HelT5,HelT6,HelT7,HelT8,HelT9,HelT10,HelT11,HelT12,HelT13,HelT14,HelT15,HelT16,HelT17,HelT18,HelT19,HelT20\n",
      "Roll1,Roll2,Roll3,Roll4,Roll5,Roll6,Roll7,Roll8,Roll9,Roll10,Roll11,Roll12,Roll13,Roll14,Roll15,Roll16,Roll17,Roll18,Roll19,Roll20\n",
      "ProT1,ProT2,ProT3,ProT4,ProT5,ProT6,ProT7,ProT8,ProT9,ProT10,ProT11,ProT12,ProT13,ProT14,ProT15,ProT16,ProT17,ProT18,ProT19,ProT20\n"
     ]
    }
   ],
   "source": [
    "# Create textfiles that will later be converted to pandas dataframe\n",
    "for prop in list_DNAprops:\n",
    "    filein = \"./ExtractedSeqs_TBP/phpYwJDXp_pos/phpYwJDXp.\" + prop + \".txt\"\n",
    "    fileout = \"./ExtractedSeqs_TBP/phpYwJDXp_pos/phpYwJDXp_processed.\" + prop + \".txt\"\n",
    "\n",
    "    with open(filein) as oldfile, open(fileout, 'w') as newfile:\n",
    "        n = 20\n",
    "        list_header = [prop] * n\n",
    "        #print(list_header)\n",
    "        for j in range(n):\n",
    "            list_header[j] = list_header[j] + str(j+1)\n",
    "        header = ','.join(list_header)\n",
    "        print(header)\n",
    "        newfile.write(header)\n",
    "        newfile.write(\"\\n\")\n",
    "        for line in oldfile:\n",
    "            if not any(bad_word in line for bad_word in bad_words):\n",
    "                newfile.write(line)"
   ]
  },
  {
   "cell_type": "code",
   "execution_count": 18,
   "metadata": {},
   "outputs": [
    {
     "name": "stdout",
     "output_type": "stream",
     "text": [
      "['./ExtractedSeqs_TBP/phpYwJDXp_pos/phpYwJDXp_processed.MGW.txt', './ExtractedSeqs_TBP/phpYwJDXp_pos/phpYwJDXp_processed.HelT.txt', './ExtractedSeqs_TBP/phpYwJDXp_pos/phpYwJDXp_processed.Roll.txt', './ExtractedSeqs_TBP/phpYwJDXp_pos/phpYwJDXp_processed.ProT.txt']\n"
     ]
    }
   ],
   "source": [
    "files_bound = [\"./ExtractedSeqs_TBP/phpYwJDXp_pos/phpYwJDXp_processed.\" + prop + \".txt\" for prop in list_DNAprops]\n",
    "print(files_bound)"
   ]
  },
  {
   "cell_type": "code",
   "execution_count": 19,
   "metadata": {},
   "outputs": [
    {
     "name": "stdout",
     "output_type": "stream",
     "text": [
      "./ExtractedSeqs_TBP/phpYwJDXp_pos/phpYwJDXp_processed.MGW.txt\n",
      "./ExtractedSeqs_TBP/phpYwJDXp_pos/phpYwJDXp_processed.HelT.txt\n",
      "./ExtractedSeqs_TBP/phpYwJDXp_pos/phpYwJDXp_processed.Roll.txt\n",
      "./ExtractedSeqs_TBP/phpYwJDXp_pos/phpYwJDXp_processed.ProT.txt\n",
      "(392, 80)\n",
      "(392, 81)\n"
     ]
    }
   ],
   "source": [
    "for i in range(len(files_bound)):\n",
    "    if i == 0:\n",
    "        print(files_bound[i])\n",
    "        df_properties_b = pd.read_csv(files_bound[i])    \n",
    "    else:\n",
    "        print(files_bound[i])\n",
    "        df_property_b = pd.read_csv(files_bound[i])\n",
    "        df_properties_b = pd.concat([df_properties_b, df_property_b.reindex(df_properties_b.index)], axis=1)\n",
    "\n",
    "print(df_properties_b.shape)\n",
    "df_properties_b[\"label\"] = \"bound\"\n",
    "print(df_properties_b.shape)"
   ]
  },
  {
   "cell_type": "markdown",
   "metadata": {},
   "source": [
    "##### Merge the dataframes of bound and unbound sequences"
   ]
  },
  {
   "cell_type": "code",
   "execution_count": 20,
   "metadata": {},
   "outputs": [
    {
     "name": "stdout",
     "output_type": "stream",
     "text": [
      "(1596, 81)\n"
     ]
    }
   ],
   "source": [
    "df_properties_both = pd.concat([df_properties_ub, df_properties_b], axis=0)\n",
    "print(df_properties_both.shape)\n",
    "#print(df_properties_both.head(5))"
   ]
  },
  {
   "cell_type": "markdown",
   "metadata": {},
   "source": [
    "##### Drop columns whose values are all NaN"
   ]
  },
  {
   "cell_type": "code",
   "execution_count": 21,
   "metadata": {},
   "outputs": [],
   "source": [
    "df_properties_both = df_properties_both.dropna(how='all', axis=1)"
   ]
  },
  {
   "cell_type": "markdown",
   "metadata": {},
   "source": [
    "### Implement a KNN classifier"
   ]
  },
  {
   "cell_type": "code",
   "execution_count": 22,
   "metadata": {},
   "outputs": [],
   "source": [
    "from sklearn.model_selection import train_test_split\n",
    "from sklearn.preprocessing import StandardScaler\n",
    "from sklearn.neighbors import KNeighborsClassifier\n",
    "from sklearn.model_selection import KFold\n",
    "from sklearn import metrics\n",
    "from sklearn.metrics import accuracy_score\n",
    "import sklearn"
   ]
  },
  {
   "cell_type": "code",
   "execution_count": 23,
   "metadata": {},
   "outputs": [
    {
     "name": "stdout",
     "output_type": "stream",
     "text": [
      "(1596, 67)\n",
      "Empty DataFrame\n",
      "Columns: [MGW3, MGW4, MGW5, MGW6, MGW7, MGW8, MGW9, MGW10, MGW11, MGW12, MGW13, MGW14, MGW15, MGW16, MGW17, MGW18, HelT2, HelT3, HelT4, HelT5, HelT6, HelT7, HelT8, HelT9, HelT10, HelT11, HelT12, HelT13, HelT14, HelT15, HelT16, HelT17, HelT18, Roll2, Roll3, Roll4, Roll5, Roll6, Roll7, Roll8, Roll9, Roll10, Roll11, Roll12, Roll13, Roll14, Roll15, Roll16, Roll17, Roll18, ProT3, ProT4, ProT5, ProT6, ProT7, ProT8, ProT9, ProT10, ProT11, ProT12, ProT13, ProT14, ProT15, ProT16, ProT17, ProT18, label]\n",
      "Index: []\n",
      "\n",
      "[0 rows x 67 columns]\n"
     ]
    }
   ],
   "source": [
    "df_shuffled = sklearn.utils.shuffle(df_properties_both)\n",
    "print(df_shuffled.shape)\n",
    "df_nan = df_shuffled[df_shuffled.isna().any(axis=1)]\n",
    "print(df_nan)"
   ]
  },
  {
   "cell_type": "code",
   "execution_count": 35,
   "metadata": {},
   "outputs": [
    {
     "name": "stdout",
     "output_type": "stream",
     "text": [
      "Number of nearest neighbour: 1\n",
      "Average accuracy: 0.7475137147335423\n",
      "best n: 1\n",
      "Number of nearest neighbour: 2\n",
      "Average accuracy: 0.638467868338558\n",
      "best n: 1\n",
      "Number of nearest neighbour: 3\n",
      "Average accuracy: 0.7418593260188089\n",
      "best n: 1\n",
      "Number of nearest neighbour: 4\n",
      "Average accuracy: 0.68419670846395\n",
      "best n: 1\n",
      "Number of nearest neighbour: 5\n",
      "Average accuracy: 0.7368495297805643\n",
      "best n: 1\n",
      "Number of nearest neighbour: 6\n",
      "Average accuracy: 0.7092731191222571\n",
      "best n: 1\n",
      "Number of nearest neighbour: 7\n",
      "Average accuracy: 0.7481308777429467\n",
      "best n: 7\n",
      "Number of nearest neighbour: 8\n",
      "Average accuracy: 0.7305916927899687\n",
      "best n: 7\n",
      "Number of nearest neighbour: 9\n",
      "Average accuracy: 0.7587833072100314\n",
      "best n: 9\n",
      "Number of nearest neighbour: 10\n",
      "Average accuracy: 0.7424980407523512\n",
      "best n: 9\n",
      "Number of nearest neighbour: 11\n",
      "Average accuracy: 0.7531524294670846\n",
      "best n: 9\n",
      "Number of nearest neighbour: 12\n",
      "Average accuracy: 0.7425039184952978\n",
      "best n: 9\n",
      "Number of nearest neighbour: 13\n",
      "Average accuracy: 0.7600450626959249\n",
      "best n: 13\n",
      "Number of nearest neighbour: 14\n",
      "Average accuracy: 0.7462597962382445\n",
      "best n: 13\n",
      "Number of nearest neighbour: 15\n",
      "Average accuracy: 0.7500156739811912\n",
      "best n: 13\n",
      "Number of nearest neighbour: 16\n",
      "Average accuracy: 0.735603448275862\n",
      "best n: 13\n",
      "Number of nearest neighbour: 17\n",
      "Average accuracy: 0.7443808777429467\n",
      "best n: 13\n",
      "Number of nearest neighbour: 18\n",
      "Average accuracy: 0.7374823667711599\n",
      "best n: 13\n",
      "Number of nearest neighbour: 19\n",
      "Average accuracy: 0.7431152037617555\n",
      "best n: 13\n",
      "Number of nearest neighbour: 20\n",
      "Average accuracy: 0.7286990595611286\n",
      "best n: 13\n",
      "Number of nearest neighbour: 21\n",
      "Average accuracy: 0.7381152037617554\n",
      "best n: 13\n",
      "Number of nearest neighbour: 22\n",
      "Average accuracy: 0.7374784482758621\n",
      "best n: 13\n",
      "Number of nearest neighbour: 23\n",
      "Average accuracy: 0.74625\n",
      "best n: 13\n",
      "Number of nearest neighbour: 24\n",
      "Average accuracy: 0.7437362852664576\n",
      "best n: 13\n",
      "Number of nearest neighbour: 25\n",
      "Average accuracy: 0.7500039184952978\n",
      "best n: 13\n",
      "Number of nearest neighbour: 26\n",
      "Average accuracy: 0.7487402037617554\n",
      "best n: 13\n",
      "Number of nearest neighbour: 27\n",
      "Average accuracy: 0.7556485109717869\n",
      "best n: 13\n",
      "Number of nearest neighbour: 28\n",
      "Average accuracy: 0.7556308777429468\n",
      "best n: 13\n",
      "Number of nearest neighbour: 29\n",
      "Average accuracy: 0.7575254702194357\n",
      "best n: 13\n",
      "Number of nearest neighbour: 30\n",
      "Average accuracy: 0.7594063479623824\n",
      "best n: 13\n",
      "Number of nearest neighbour: 31\n",
      "Average accuracy: 0.7569122257053291\n",
      "best n: 13\n",
      "Number of nearest neighbour: 32\n",
      "Average accuracy: 0.7581602664576803\n",
      "best n: 13\n",
      "Number of nearest neighbour: 33\n",
      "Average accuracy: 0.7612970219435737\n",
      "best n: 33\n",
      "Number of nearest neighbour: 34\n",
      "Average accuracy: 0.7581524294670846\n",
      "best n: 33\n",
      "Number of nearest neighbour: 35\n",
      "Average accuracy: 0.7600450626959248\n",
      "best n: 33\n",
      "Number of nearest neighbour: 36\n",
      "Average accuracy: 0.7587813479623825\n",
      "best n: 33\n",
      "Number of nearest neighbour: 37\n",
      "Average accuracy: 0.7581700626959247\n",
      "best n: 33\n",
      "Number of nearest neighbour: 38\n",
      "Average accuracy: 0.7600450626959248\n",
      "best n: 33\n",
      "Number of nearest neighbour: 39\n",
      "Average accuracy: 0.7587950626959248\n",
      "best n: 33\n",
      "Number of nearest neighbour: 40\n",
      "Average accuracy: 0.7606622257053293\n",
      "best n: 33\n",
      "Number of nearest neighbour: 41\n",
      "Average accuracy: 0.7575372257053291\n",
      "best n: 33\n",
      "Number of nearest neighbour: 42\n",
      "Average accuracy: 0.7650528996865203\n",
      "best n: 42\n",
      "Number of nearest neighbour: 43\n",
      "Average accuracy: 0.7613009404388715\n",
      "best n: 42\n",
      "Number of nearest neighbour: 44\n",
      "Average accuracy: 0.7638068181818183\n",
      "best n: 42\n",
      "Number of nearest neighbour: 45\n",
      "Average accuracy: 0.7656818181818181\n",
      "best n: 45\n",
      "Number of nearest neighbour: 46\n",
      "Average accuracy: 0.7675626959247649\n",
      "best n: 46\n",
      "Number of nearest neighbour: 47\n",
      "Average accuracy: 0.7644278996865204\n",
      "best n: 46\n",
      "Number of nearest neighbour: 48\n",
      "Average accuracy: 0.7700666144200627\n",
      "best n: 48\n",
      "Number of nearest neighbour: 49\n",
      "Average accuracy: 0.7663087774294671\n",
      "best n: 48\n",
      "Number of nearest neighbour: 50\n",
      "Average accuracy: 0.7675568181818181\n",
      "best n: 48\n",
      "Number of nearest neighbour: 51\n",
      "Average accuracy: 0.7662989811912226\n",
      "best n: 48\n",
      "Number of nearest neighbour: 52\n",
      "Average accuracy: 0.7688087774294671\n",
      "best n: 48\n",
      "Number of nearest neighbour: 53\n",
      "Average accuracy: 0.7619102664576802\n",
      "best n: 48\n",
      "Number of nearest neighbour: 54\n",
      "Average accuracy: 0.7581504702194357\n",
      "best n: 48\n",
      "Number of nearest neighbour: 55\n",
      "Average accuracy: 0.7594063479623824\n",
      "best n: 48\n",
      "Number of nearest neighbour: 56\n",
      "Average accuracy: 0.7612872257053291\n",
      "best n: 48\n",
      "Number of nearest neighbour: 57\n",
      "Average accuracy: 0.7556485109717868\n",
      "best n: 48\n",
      "Number of nearest neighbour: 58\n",
      "Average accuracy: 0.753144592476489\n",
      "best n: 48\n",
      "Number of nearest neighbour: 59\n",
      "Average accuracy: 0.7550176332288401\n",
      "best n: 48\n",
      "Number of nearest neighbour: 60\n",
      "Average accuracy: 0.7550137147335423\n",
      "best n: 48\n",
      "Number of nearest neighbour: 61\n",
      "Average accuracy: 0.7568945924764889\n",
      "best n: 48\n",
      "Number of nearest neighbour: 62\n",
      "Average accuracy: 0.7543926332288401\n",
      "best n: 48\n",
      "Number of nearest neighbour: 63\n",
      "Average accuracy: 0.7581504702194358\n",
      "best n: 48\n",
      "Number of nearest neighbour: 64\n",
      "Average accuracy: 0.7575274294670847\n",
      "best n: 48\n",
      "Number of nearest neighbour: 65\n",
      "Average accuracy: 0.7600333072100314\n",
      "best n: 48\n",
      "Number of nearest neighbour: 66\n",
      "Average accuracy: 0.7581563479623824\n",
      "best n: 48\n",
      "Number of nearest neighbour: 67\n",
      "Average accuracy: 0.7562754702194358\n",
      "best n: 48\n",
      "Number of nearest neighbour: 68\n",
      "Average accuracy: 0.7569004702194357\n",
      "best n: 48\n",
      "Number of nearest neighbour: 69\n",
      "Average accuracy: 0.7569063479623825\n",
      "best n: 48\n",
      "Number of nearest neighbour: 70\n",
      "Average accuracy: 0.7569043887147335\n",
      "best n: 48\n",
      "Number of nearest neighbour: 71\n",
      "Average accuracy: 0.7562793887147335\n",
      "best n: 48\n",
      "Number of nearest neighbour: 72\n",
      "Average accuracy: 0.754394592476489\n",
      "best n: 48\n",
      "Number of nearest neighbour: 73\n",
      "Average accuracy: 0.7525176332288401\n",
      "best n: 48\n",
      "Number of nearest neighbour: 74\n",
      "Average accuracy: 0.7537715517241379\n",
      "best n: 48\n",
      "Number of nearest neighbour: 75\n",
      "Average accuracy: 0.7581583072100313\n",
      "best n: 48\n",
      "Number of nearest neighbour: 76\n",
      "Average accuracy: 0.7569024294670845\n",
      "best n: 48\n",
      "Number of nearest neighbour: 77\n",
      "Average accuracy: 0.7587852664576802\n",
      "best n: 48\n",
      "Number of nearest neighbour: 78\n",
      "Average accuracy: 0.760039184952978\n",
      "best n: 48\n",
      "Number of nearest neighbour: 79\n",
      "Average accuracy: 0.7575293887147334\n",
      "best n: 48\n",
      "Number of nearest neighbour: 80\n",
      "Average accuracy: 0.7587813479623824\n",
      "best n: 48\n",
      "Number of nearest neighbour: 81\n",
      "Average accuracy: 0.7587813479623824\n",
      "best n: 48\n",
      "Number of nearest neighbour: 82\n",
      "Average accuracy: 0.7612891849529781\n",
      "best n: 48\n",
      "Number of nearest neighbour: 83\n",
      "Average accuracy: 0.7594083072100315\n",
      "best n: 48\n",
      "Number of nearest neighbour: 84\n",
      "Average accuracy: 0.7594083072100314\n",
      "best n: 48\n",
      "Number of nearest neighbour: 85\n",
      "Average accuracy: 0.7581543887147335\n",
      "best n: 48\n",
      "Number of nearest neighbour: 86\n",
      "Average accuracy: 0.7587813479623825\n",
      "best n: 48\n",
      "Number of nearest neighbour: 87\n",
      "Average accuracy: 0.7581563479623824\n",
      "best n: 48\n",
      "Number of nearest neighbour: 88\n",
      "Average accuracy: 0.7581524294670846\n",
      "best n: 48\n",
      "Number of nearest neighbour: 89\n",
      "Average accuracy: 0.7569043887147335\n",
      "best n: 48\n",
      "Number of nearest neighbour: 90\n",
      "Average accuracy: 0.7619122257053291\n",
      "best n: 48\n",
      "Number of nearest neighbour: 91\n",
      "Average accuracy: 0.7594102664576802\n",
      "best n: 48\n",
      "Number of nearest neighbour: 92\n",
      "Average accuracy: 0.7575293887147334\n",
      "best n: 48\n",
      "Number of nearest neighbour: 93\n",
      "Average accuracy: 0.760039184952978\n",
      "best n: 48\n",
      "Number of nearest neighbour: 94\n",
      "Average accuracy: 0.7581583072100313\n",
      "best n: 48\n",
      "Number of nearest neighbour: 95\n",
      "Average accuracy: 0.7581583072100314\n",
      "best n: 48\n",
      "Number of nearest neighbour: 96\n",
      "Average accuracy: 0.7587891849529781\n",
      "best n: 48\n",
      "Number of nearest neighbour: 97\n",
      "Average accuracy: 0.7587852664576802\n",
      "best n: 48\n",
      "Number of nearest neighbour: 98\n",
      "Average accuracy: 0.7594122257053292\n",
      "best n: 48\n",
      "Number of nearest neighbour: 99\n",
      "Average accuracy: 0.7587852664576802\n",
      "best n: 48\n",
      "Running time (s): 42.03098750114441\n"
     ]
    }
   ],
   "source": [
    "t_start = time.time()\n",
    "\n",
    "X = df_shuffled.iloc[:,:-1]\n",
    "y = df_shuffled.iloc[:,-1]\n",
    "\n",
    "\n",
    "n_list = [i for i in range(1, 100)]\n",
    "test_accuracy = []\n",
    "\n",
    "best_accuracy = 0\n",
    "best_n = 0\n",
    "\n",
    "for i in range(1, 100):\n",
    "    n = i  # number of neighbours i.e. hyperparameter of KNN\n",
    "    k = 5\n",
    "    kf = KFold(n_splits=k)\n",
    "    knn1 = KNeighborsClassifier(n_neighbors=n)  # change n_neighbors as necessary\n",
    "\n",
    "    acc_score = []\n",
    "    for train_index, test_index in kf.split(X):\n",
    "        #print(train_index, test_index)\n",
    "\n",
    "        X_train, X_test = X.iloc[train_index], X.iloc[test_index]\n",
    "        y_train, y_test = y.iloc[train_index], y.iloc[test_index]\n",
    "\n",
    "        # Feature scaling\n",
    "        s = StandardScaler()\n",
    "        s.fit(X_train)\n",
    "        X_train = s.transform(X_train)\n",
    "        X_test = s.transform(X_test)\n",
    "\n",
    "        # Fit the model\n",
    "        knn1.fit(X_train, y_train)\n",
    "        pred_values = knn1.predict(X_test)\n",
    "\n",
    "        accuracy = accuracy_score(pred_values, y_test)\n",
    "        acc_score.append(accuracy)\n",
    "\n",
    "    avg_acc_score = sum(acc_score) / k\n",
    "    test_accuracy.append(avg_acc_score)\n",
    "    \n",
    "    if avg_acc_score > best_accuracy:\n",
    "        best_accuracy = avg_acc_score\n",
    "        best_n = n\n",
    "        \n",
    "    #print(\"Accuracy: each fold:\", acc_score)\n",
    "    print(\"Number of nearest neighbour:\", n)\n",
    "    print(\"Average accuracy:\", avg_acc_score)\n",
    "    print(\"best n:\", best_n)\n",
    "t_end = time.time()\n",
    "t_total = t_end - t_start\n",
    "print(\"Running time (s):\", t_total)"
   ]
  },
  {
   "cell_type": "code",
   "execution_count": 37,
   "metadata": {},
   "outputs": [
    {
     "name": "stdout",
     "output_type": "stream",
     "text": [
      "Number of neighbours with the highest accuracy: 48\n",
      "Highest accuracy achieved: 0.7700666144200627\n"
     ]
    },
    {
     "data": {
      "text/plain": [
       "Text(0, 0.5, 'Accuracy')"
      ]
     },
     "execution_count": 37,
     "metadata": {},
     "output_type": "execute_result"
    },
    {
     "data": {
      "image/png": "[encoded data removed]",
      "text/plain": [
       "<Figure size 432x288 with 1 Axes>"
      ]
     },
     "metadata": {
      "needs_background": "light"
     },
     "output_type": "display_data"
    }
   ],
   "source": [
    "print(\"Number of neighbours with the highest accuracy:\", best_n)\n",
    "print(\"Highest accuracy achieved:\", best_accuracy)\n",
    "plt.plot(n_list, test_accuracy)\n",
    "plt.title(\"TBP: Number of nearest neighbours vs accuracy\")\n",
    "plt.xlabel(\"Number of nearest neighbours\")\n",
    "plt.ylabel(\"Accuracy\")"
   ]
  },
  {
   "cell_type": "code",
   "execution_count": 32,
   "metadata": {},
   "outputs": [
    {
     "name": "stdout",
     "output_type": "stream",
     "text": [
      "Number of nearest neighbour: 48\n",
      "Average accuracy: 0.7700666144200627\n",
      "best n: 48\n",
      "Running time (s): 0.413891077041626\n"
     ]
    }
   ],
   "source": [
    "# Creating one KNN classifier\n",
    "t_start = time.time()\n",
    "\n",
    "X = df_shuffled.iloc[:,:-1]\n",
    "y = df_shuffled.iloc[:,-1]\n",
    "\n",
    "\n",
    "n_list = [i for i in range(1, 100)]\n",
    "test_accuracy = []\n",
    "\n",
    "best_accuracy = 0\n",
    "best_n = 0\n",
    "\n",
    "n = 48  # number of neighbours i.e. hyperparameter of KNN\n",
    "k = 5\n",
    "kf = KFold(n_splits=k)\n",
    "knn1 = KNeighborsClassifier(n_neighbors=n)  # change n_neighbors as necessary\n",
    "\n",
    "acc_score = []\n",
    "for train_index, test_index in kf.split(X):\n",
    "    #print(train_index, test_index)\n",
    "\n",
    "    X_train, X_test = X.iloc[train_index], X.iloc[test_index]\n",
    "    y_train, y_test = y.iloc[train_index], y.iloc[test_index]\n",
    "\n",
    "    # Feature scaling\n",
    "    s = StandardScaler()\n",
    "    s.fit(X_train)\n",
    "    X_train = s.transform(X_train)\n",
    "    X_test = s.transform(X_test)\n",
    "\n",
    "    # Fit the model\n",
    "    knn1.fit(X_train, y_train)\n",
    "    pred_values = knn1.predict(X_test)\n",
    "\n",
    "    accuracy = accuracy_score(pred_values, y_test)\n",
    "    acc_score.append(accuracy)\n",
    "\n",
    "avg_acc_score = sum(acc_score) / k\n",
    "test_accuracy.append(avg_acc_score)\n",
    "\n",
    "if avg_acc_score > best_accuracy:\n",
    "    best_accuracy = avg_acc_score\n",
    "    best_n = n\n",
    "\n",
    "#print(\"Accuracy: each fold:\", acc_score)\n",
    "print(\"Number of nearest neighbour:\", n)\n",
    "print(\"Average accuracy:\", avg_acc_score)\n",
    "print(\"best n:\", best_n)\n",
    "t_end = time.time()\n",
    "t_total = t_end - t_start\n",
    "print(\"Running time (s):\", t_total)"
   ]
  },
  {
   "cell_type": "markdown",
   "metadata": {},
   "source": [
    "### Implement a Logistic Regression classifier"
   ]
  },
  {
   "cell_type": "code",
   "execution_count": 28,
   "metadata": {},
   "outputs": [],
   "source": [
    "from sklearn.linear_model import LogisticRegression"
   ]
  },
  {
   "cell_type": "code",
   "execution_count": 30,
   "metadata": {},
   "outputs": [
    {
     "name": "stdout",
     "output_type": "stream",
     "text": [
      "99\n",
      "Average accuracy: 0.780058777429467\n",
      "Running time (s): 0.3510322570800781\n"
     ]
    }
   ],
   "source": [
    "t_start2 = time.time()\n",
    "\n",
    "X = df_shuffled.iloc[:,:-1]\n",
    "y = df_shuffled.iloc[:,-1]\n",
    "\n",
    "\n",
    "n_list = [i for i in range(1, 100)]\n",
    "print(n)\n",
    "test_accuracy = []\n",
    "\n",
    "n = i  # number of neighbours i.e. hyperparameter of KNN\n",
    "k = 5\n",
    "kf = KFold(n_splits=k)\n",
    "classifier = LogisticRegression(random_state=0, solver='liblinear')\n",
    "\n",
    "acc_score = []\n",
    "for train_index, test_index in kf.split(X):\n",
    "\n",
    "    X_train, X_test = X.iloc[train_index], X.iloc[test_index]\n",
    "    y_train, y_test = y.iloc[train_index], y.iloc[test_index]\n",
    "\n",
    "    # Fit the model\n",
    "    classifier.fit(X_train, y_train)\n",
    "    pred_values = classifier.predict(X_test)\n",
    "\n",
    "    accuracy = accuracy_score(pred_values, y_test)\n",
    "    acc_score.append(accuracy)\n",
    "\n",
    "avg_acc_score = sum(acc_score) / k\n",
    "test_accuracy.append(avg_acc_score)\n",
    "\n",
    "#print(\"Accuracy: each fold:\", acc_score)\n",
    "print(\"Average accuracy:\", avg_acc_score)\n",
    "t_end2 = time.time()\n",
    "t_total2 = t_end2 - t_start2\n",
    "print(\"Running time (s):\", t_total2)"
   ]
  },
  {
   "cell_type": "markdown",
   "metadata": {},
   "source": [
    "#### Perform a grid search to find the best model"
   ]
  },
  {
   "cell_type": "code",
   "execution_count": 70,
   "metadata": {},
   "outputs": [
    {
     "name": "stdout",
     "output_type": "stream",
     "text": [
      "Fitting 5 folds for each of 40 candidates, totalling 200 fits\n"
     ]
    },
    {
     "name": "stderr",
     "output_type": "stream",
     "text": [
      "[Parallel(n_jobs=-1)]: Using backend LokyBackend with 8 concurrent workers.\n",
      "[Parallel(n_jobs=-1)]: Done 200 out of 200 | elapsed:  2.1min finished\n"
     ]
    },
    {
     "name": "stdout",
     "output_type": "stream",
     "text": [
      "GridSearchCV(cv=5, error_score='raise-deprecating',\n",
      "             estimator=Pipeline(memory=None,\n",
      "                                steps=[('classifier',\n",
      "                                        LogisticRegression(C=1.0,\n",
      "                                                           class_weight=None,\n",
      "                                                           dual=False,\n",
      "                                                           fit_intercept=True,\n",
      "                                                           intercept_scaling=1,\n",
      "                                                           l1_ratio=None,\n",
      "                                                           max_iter=100,\n",
      "                                                           multi_class='warn',\n",
      "                                                           n_jobs=None,\n",
      "                                                           penalty='l2',\n",
      "                                                           random_state=None,\n",
      "                                                           solver='warn',\n",
      "                                                           tol=0.0001,\n",
      "                                                           verbose=0,\n",
      "                                                           warm_start=False))],\n",
      "                                verbose=Fal...\n",
      "       4.83293024e-03, 1.27427499e-02, 3.35981829e-02, 8.85866790e-02,\n",
      "       2.33572147e-01, 6.15848211e-01, 1.62377674e+00, 4.28133240e+00,\n",
      "       1.12883789e+01, 2.97635144e+01, 7.84759970e+01, 2.06913808e+02,\n",
      "       5.45559478e+02, 1.43844989e+03, 3.79269019e+03, 1.00000000e+04]),\n",
      "                          'classifier__penalty': ['l1', 'l2'],\n",
      "                          'classifier__solver': ['liblinear']}],\n",
      "             pre_dispatch='2*n_jobs', refit=True, return_train_score=False,\n",
      "             scoring=None, verbose=True)\n"
     ]
    }
   ],
   "source": [
    "from sklearn.pipeline import Pipeline\n",
    "from sklearn.model_selection import GridSearchCV\n",
    "\n",
    "pipe = Pipeline([('classifier', LogisticRegression())])\n",
    "param_grid = [\n",
    "    {'classifier': [LogisticRegression()],\n",
    "     'classifier__penalty' : ['l1', 'l2'],  # L1 and L2 regularizations\n",
    "     'classifier__C': np.logspace(-4, 4, 20),\n",
    "     'classifier__solver': ['liblinear']\n",
    "    }\n",
    "]\n",
    "\n",
    "# Create a grid search object\n",
    "clf = GridSearchCV(pipe, param_grid = param_grid, cv = 5, verbose=True, n_jobs=-1)\n",
    "best_classifier = clf.fit(X_train, y_train)\n",
    "print(best_classifier)"
   ]
  }
 ],
 "metadata": {
  "kernelspec": {
   "display_name": "Python 3",
   "language": "python",
   "name": "python3"
  },
  "language_info": {
   "codemirror_mode": {
    "name": "ipython",
    "version": 3
   },
   "file_extension": ".py",
   "mimetype": "text/x-python",
   "name": "python",
   "nbconvert_exporter": "python",
   "pygments_lexer": "ipython3",
   "version": "3.7.3"
  }
 },
 "nbformat": 4,
 "nbformat_minor": 2
}
